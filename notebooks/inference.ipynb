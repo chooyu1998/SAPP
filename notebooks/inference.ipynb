{
 "cells": [
  {
   "cell_type": "code",
   "execution_count": 22,
   "id": "63c9c618",
   "metadata": {},
   "outputs": [],
   "source": [
    "import sys\n",
    "sys.path.append(\"../\")  # src 상위 폴더 기준 상대경로\n",
    "\n",
    "from src.datasets.dataprocess import get_Data\n",
    "from src.utils import get_RSA\n",
    "from Bio.PDB.MMCIFParser import MMCIFParser\n",
    "from Bio.PDB.PDBParser import PDBParser\n",
    "from src.models.Model import SAPP_Model\n",
    "import warnings\n",
    "warnings.filterwarnings(\"ignore\", category=UserWarning, module=\"Bio.PDB.DSSP\")\n",
    "import torch \n",
    "from collections import defaultdict\n",
    "import numpy as np\n",
    "import pandas as pd\n",
    "from torch.utils.data import DataLoader, TensorDataset\n",
    "import os\n",
    "from tqdm import tqdm \n",
    "import torch\n",
    "\n",
    "\n",
    "input_path = '/home/bis/230419_CYJ_Methyl/SAPP/inference_test_wAF.txt'\n",
    "batch_size = 128\n",
    "device = 'cuda:2' \n",
    "output_path = 'inference_result.csv'\n",
    "\n",
    "with open(input_path,'r') as f:\n",
    "    lists = f.readlines()\n",
    "\n",
    "PTMtype_to_residue = {'SAPPPhos':['S','T'],'SAPPmethylR':['R'],'SAPPphosY':['Y'],\n",
    "                      'SAPPsumoK':['K'],'SAPPmethylK':['K'], 'SAPPacetylK':['K'],\n",
    "                     'SAPPubiquitinK':['K']}\n",
    "\n",
    "\n",
    "\n",
    "# PTMtype 기준으로 그룹핑된 정보 저장\n",
    "grouped_test_info = defaultdict(list)\n",
    "grouped_RSA_dic = defaultdict(dict)\n",
    "grouped_protein_dic = defaultdict(dict)\n",
    "\n",
    "for line in lists:\n",
    "    proteinid,protein_seq, site, label, PTMtype, AF_file = line.strip().split('\\t')\n",
    "\n",
    "    site = int(site)\n",
    "    label = int(label)\n",
    "    assert protein_seq[site] in PTMtype_to_residue[PTMtype]\n",
    "\n",
    "    # 구조 파싱\n",
    "    parser = MMCIFParser() if AF_file.endswith('.cif') else PDBParser()\n",
    "    structure = parser.get_structure('test', AF_file)\n",
    "    model = structure[0]\n",
    "    pdb_seq, RSA = get_RSA(model, AF_file)\n",
    "\n",
    "    assert protein_seq == pdb_seq\n",
    "\n",
    "    # 그룹별 저장\n",
    "    grouped_test_info[PTMtype].append((proteinid, site, label, PTMtype))\n",
    "    grouped_RSA_dic[PTMtype][proteinid] = RSA\n",
    "    grouped_protein_dic[PTMtype][proteinid] = protein_seq\n",
    "\n",
    "grouped_test_result = dict()\n",
    "\n",
    "for ptm_type in grouped_test_info:\n",
    "    print(f\"Processing {ptm_type}...\")\n",
    "    \n",
    "    # 데이터 준비\n",
    "    seq_list, rsa_list, mask_list, rsamask_list, label_list = get_Data(\n",
    "        grouped_test_info[ptm_type],\n",
    "        grouped_protein_dic[ptm_type],\n",
    "        grouped_RSA_dic[ptm_type]\n",
    "    )\n",
    "\n",
    "    test_dataset = TensorDataset(\n",
    "        seq_list,\n",
    "        rsa_list,\n",
    "        mask_list,\n",
    "        rsamask_list,\n",
    "        label_list\n",
    "    )\n",
    "    \n",
    "    test_loader = DataLoader(test_dataset, batch_size=batch_size, shuffle=False)\n",
    "    \n",
    "    all_preds = []\n",
    "\n",
    "    # 모델 앙상블 평균\n",
    "    model = SAPP_Model(\n",
    "        22, hidden=256, n_layers=2, attn_heads=4, dropout=0.2,\n",
    "        feed_forward_dim=758, device=device\n",
    "    ).to(device)\n",
    "\n",
    "    model_path = f'../data/models/{ptm_type}'\n",
    "    weight_files = os.listdir(model_path)\n",
    "\n",
    "    for weight_file in weight_files:\n",
    "        model.load_state_dict(torch.load(os.path.join(model_path, weight_file)))\n",
    "        model.eval()\n",
    "\n",
    "        pred_y = []\n",
    "        for data in tqdm(test_loader, desc=f\"{ptm_type} - {weight_file}\"):\n",
    "            data = [b.to(device) for b in data]\n",
    "            pred, _ = model(data[0], data[1], data[2], data[3])\n",
    "            pred_y.append(pred.view(-1).detach().cpu().numpy())\n",
    "\n",
    "        all_preds.append(np.concatenate(pred_y))\n",
    "\n",
    "    pred_y_list = np.mean(np.stack(all_preds), axis=0)\n",
    "    \n",
    "    protein_ids = [info[0] for info in grouped_test_info[ptm_type]]\n",
    "    sites = [info[1] for info in grouped_test_info[ptm_type]]\n",
    "\n",
    "\n",
    "    # 결과 저장\n",
    "    result_df = pd.DataFrame({\n",
    "        'ProteinID': protein_ids,\n",
    "        'Site': sites,\n",
    "        'Pred': pred_y_list,\n",
    "        'Label': label_list.cpu().numpy(),\n",
    "        'PTMType': ptm_type\n",
    "    })\n",
    "    grouped_test_result[ptm_type] = result_df\n",
    "\n",
    "# 모든 PTM type 결과 합치기\n",
    "total_df = pd.concat(grouped_test_result.values(), ignore_index=True)\n",
    "total_df.to_csv(output_path)"
   ]
  },
  {
   "cell_type": "code",
   "execution_count": 44,
   "id": "4bf22fdd",
   "metadata": {},
   "outputs": [],
   "source": [
    "with open('../example_input_wAF.txt','r') as f:\n",
    "    lists = f.readlines()"
   ]
  },
  {
   "cell_type": "code",
   "execution_count": 46,
   "id": "cecb1437",
   "metadata": {},
   "outputs": [],
   "source": [
    "new_list = []\n",
    "for line in lists:\n",
    "    proteinid, seq, site, label, ptmtype, mmcif = line.replace('\\n','').split('\\t')\n",
    "    new_list.append(proteinid+'\\t'+seq+'\\t'+site+'\\t'+label+'\\t'+ptmtype+'\\t'+'data/RSA_files/Q9ESV1.npy'+'\\n')"
   ]
  },
  {
   "cell_type": "code",
   "execution_count": 47,
   "id": "2cd184e5",
   "metadata": {},
   "outputs": [],
   "source": [
    "with open('../example_input_wRSA.txt','w') as f:\n",
    "    f.writelines(''.join(new_list))"
   ]
  },
  {
   "cell_type": "code",
   "execution_count": 28,
   "id": "ef144678",
   "metadata": {},
   "outputs": [],
   "source": [
    "protein_list = list()\n",
    "rsa_list = list()\n",
    "\n",
    "for protein in set(test_df['Protein']):\n",
    "    protein_list.append(protein)\n",
    "    rsa_list.append(total_RSA[protein])"
   ]
  },
  {
   "cell_type": "code",
   "execution_count": 29,
   "id": "c4db2bc8",
   "metadata": {},
   "outputs": [],
   "source": [
    "df = pd.DataFrame({'Protein':protein_list,'RSA':rsa_list})"
   ]
  },
  {
   "cell_type": "code",
   "execution_count": 31,
   "id": "f56f1073",
   "metadata": {},
   "outputs": [],
   "source": [
    "df.to_csv('/home/bis/230419_CYJ_Methyl/SAPP/data/RSA_files/testdata_RSA.csv')"
   ]
  },
  {
   "cell_type": "code",
   "execution_count": 34,
   "id": "59cf3adf",
   "metadata": {},
   "outputs": [],
   "source": [
    "df = pd.read_csv('../data/RSA_files/testdata_RSA.csv',index_col=0)"
   ]
  },
  {
   "cell_type": "code",
   "execution_count": 43,
   "id": "56e4d57d",
   "metadata": {},
   "outputs": [],
   "source": [
    "np.save('/home/bis/230419_CYJ_Methyl/SAPP/data/RSA_files/Q9ESV1.npy', total_RSA['Q9ESV1'])"
   ]
  },
  {
   "cell_type": "code",
   "execution_count": 48,
   "id": "acc2a27b",
   "metadata": {},
   "outputs": [],
   "source": [
    "with open('/data1/CYJ_Methyl/paper_data_2025/Phospho_ST/SAPP_test_result.pickle','rb') as f:\n",
    "    SAPP = pickle.load(f)"
   ]
  },
  {
   "cell_type": "code",
   "execution_count": 49,
   "id": "9d5a312d",
   "metadata": {},
   "outputs": [],
   "source": [
    "protein_list = list()\n",
    "site_list = list()\n",
    "pred_list = list()\n",
    "real_list = list()\n",
    "\n",
    "for info, pred, real in zip(SAPP['info'], SAPP['pred_y'], SAPP['real_y']):\n",
    "    protein_list.append(info[0])\n",
    "    site_list.append(info[1])\n",
    "    pred_list.append(pred)\n",
    "    real_list.append(real)"
   ]
  },
  {
   "cell_type": "code",
   "execution_count": 50,
   "id": "61bf380e",
   "metadata": {},
   "outputs": [],
   "source": [
    "SAPP_df = pd.DataFrame({'Protein':protein_list,'Site':site_list, 'Pred':pred_list, 'Label':real_list})"
   ]
  },
  {
   "cell_type": "code",
   "execution_count": 53,
   "id": "ad8c5ba1",
   "metadata": {},
   "outputs": [
    {
     "ename": "NameError",
     "evalue": "name 'Total_RSA' is not defined",
     "output_type": "error",
     "traceback": [
      "\u001b[0;31m---------------------------------------------------------------------------\u001b[0m",
      "\u001b[0;31mNameError\u001b[0m                                 Traceback (most recent call last)",
      "Cell \u001b[0;32mIn[53], line 1\u001b[0m\n\u001b[0;32m----> 1\u001b[0m \u001b[38;5;28mlen\u001b[39m(\u001b[43mTotal_RSA\u001b[49m)\n",
      "\u001b[0;31mNameError\u001b[0m: name 'Total_RSA' is not defined"
     ]
    }
   ],
   "source": [
    "with open('/data1/CYJ_Methyl/paper_data_2025/Phospho_ST/Total_RSA.pickle','rb') as f:\n",
    "    SAPPPhos_RSA = pickle.load(f)\n"
   ]
  },
  {
   "cell_type": "code",
   "execution_count": null,
   "id": "acb89276",
   "metadata": {},
   "outputs": [],
   "source": []
  }
 ],
 "metadata": {
  "kernelspec": {
   "display_name": "CYJ_torch",
   "language": "python",
   "name": "cyj_methyl"
  },
  "language_info": {
   "codemirror_mode": {
    "name": "ipython",
    "version": 3
   },
   "file_extension": ".py",
   "mimetype": "text/x-python",
   "name": "python",
   "nbconvert_exporter": "python",
   "pygments_lexer": "ipython3",
   "version": "3.9.12"
  }
 },
 "nbformat": 4,
 "nbformat_minor": 5
}
