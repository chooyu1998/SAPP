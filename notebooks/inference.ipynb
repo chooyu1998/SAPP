{
 "cells": [
  {
   "cell_type": "code",
   "execution_count": 13,
   "id": "63c9c618",
   "metadata": {},
   "outputs": [],
   "source": [
    "import sys\n",
    "sys.path.append(\"/home/bis/230419_CYJ_Methyl/SAPP\")\n",
    "\n",
    "from src.datasets.dataprocess import get_Data"
   ]
  },
  {
   "cell_type": "code",
   "execution_count": 15,
   "id": "c80a29ad",
   "metadata": {},
   "outputs": [],
   "source": [
    "from src.models import SAPP"
   ]
  },
  {
   "cell_type": "code",
   "execution_count": 16,
   "id": "eb4f86ad",
   "metadata": {},
   "outputs": [
    {
     "data": {
      "text/plain": [
       "<module 'src.models.SAPP' from '/home/bis/230419_CYJ_Methyl/SAPP/src/models/SAPP.py'>"
      ]
     },
     "execution_count": 16,
     "metadata": {},
     "output_type": "execute_result"
    }
   ],
   "source": [
    "SAPP"
   ]
  }
 ],
 "metadata": {
  "kernelspec": {
   "display_name": "CYJ_torch",
   "language": "python",
   "name": "cyj_methyl"
  },
  "language_info": {
   "codemirror_mode": {
    "name": "ipython",
    "version": 3
   },
   "file_extension": ".py",
   "mimetype": "text/x-python",
   "name": "python",
   "nbconvert_exporter": "python",
   "pygments_lexer": "ipython3",
   "version": "3.9.12"
  }
 },
 "nbformat": 4,
 "nbformat_minor": 5
}
